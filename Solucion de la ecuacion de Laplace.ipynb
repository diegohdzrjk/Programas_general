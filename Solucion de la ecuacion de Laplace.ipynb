{
    "cells": [
        {
            "cell_type": "markdown",
            "metadata": {
                "id": "1445ed10-c783-47e1-981f-bf60148c67d7",
                "focus": false
            },
            "source": [
                "#Solucion de la ecuacion de Poisson"
            ]
        },
        {
            "cell_type": "code",
            "execution_count": 1,
            "metadata": {
                "collapsed": true,
                "id": "1758f708-6fd0-4d7b-bb2a-cfb35af83d72",
                "focus": false
            },
            "outputs": [],
            "source": [
                "#Librerias\n",
                "from numpy import *\n",
                "from scipy import *\n",
                "from scipy.special import *\n",
                "from scipy.integrate import *\n",
                "from pylab import *\n",
                "from JSAnimation import IPython_display\n",
                "from matplotlib import animation\n",
                "from matplotlib.pyplot import *\n",
                "from mpl_toolkits.mplot3d import Axes3D\n",
                "%matplotlib inline"
            ]
        },
        {
            "cell_type": "markdown",
            "metadata": {
                "id": "6f479414-627f-48a7-9eb7-151a9ac1bbc4",
                "focus": true
            },
            "source": "El campo eléctrico, $\\vec{E}$, se puede obtener a partir del potencial eléctrico, $V$, una función escalar que cumple con la siguiente ecuación:\n\n$$\\vec{E}(x, y, z) = -\\nabla V(x, y, z)$$\n\nAdemás sabemos por las ecuaciones de Maxwell que el campo electrico cumple con:\n\n$$\\nabla \\cdot \\vec{E}(x, y, z) = \\frac{\\rho(x, y, z)}{\\epsilon_{0}}$$\n\nPor lo que obtenemos una condicones para el potenical eléctrico.\n\n$$-\\nabla ^{2} V(x, y, z) = \\frac{\\rho(x, y, z)}{\\epsilon_{0}}$$\n\nProponemos resolver la ecuación de Poisson en distintos dominios, es un cubo, en un cilindro y en una esfera.\n\nPongamos resolver ecuación diferencial parcial de segundo orden en un dominio $\\Omega$, donde no hay cargas en el interior, por lo tanto $\\nabla ^{2} V(x, y, z) = 0$ en $\\Omega$ y la forma de $V(x,y,z)$ sólo depende de las condiciones en la frotera de $\\Omega$, $\\partial \\Omega$. Esta ecuación se conoce como la ecuación de Laplace."
        },
        {
            "cell_type": "markdown",
            "metadata": {
                "id": "f004c75c-5bbb-4cc7-b8a8-ce049c3d41e8",
                "focus": false
            },
            "source": [
                "# Solución en un cubo"
            ]
        },
        {
            "cell_type": "markdown",
            "metadata": {
                "id": "d7bc2e87-b147-439c-88ab-718a10d36d90",
                "focus": false
            },
            "source": [
                "Notemos que el operador laplaciano, $\\nabla^2$, se escribe en coordenadas cartesianas como:\n",
                "$$ \\nabla ^{2} = \\frac{\\partial ^2}{\\partial x^2}+\\frac{\\partial ^2}{\\partial y^2}+\\frac{\\partial ^2}{\\partial z^2}$$\n",
                "\n",
                "Por lo tanto podemos escribir la ecuación de Poisson como \n",
                "$$\\frac{\\partial^2 V}{\\partial x^2}+\\frac{\\partial^2 V}{\\partial y^2}+\\frac{\\partial^2 V}{\\partial z^2} = -\\frac{\\rho(x, y, z)}{\\epsilon_{0}}$$"
            ]
        },
        {
            "cell_type": "markdown",
            "metadata": {
                "id": "d081b5e5-d868-4efa-8c9f-3787240c0e17",
                "focus": false
            },
            "source": [
                "Pongamos resolver ecuación diferencial parcial de segundo orden en un cubo, que denotamos por $\\Omega$, donde no hay cargas en el interior, por lo tanto $\\rho(x, y, z) = 0$ en $\\Omega$ y donde las paredes de la caja se encuentran a potenciales constantes $V_1,..., V_6$.\n",
                "\n",
                "En este caso tomaremos $\\Omega = (0,1)^3 \\in \\Re^3$ y denotamos como $\\partial \\Omega_{i}$ cada una de las caras del cubo.\n",
                "\n",
                "\n",
                "Por lo tanto tenemos que resolver el siguiente sistema de ecuaciones:\n",
                "\n",
                "$$\\frac{\\partial^2 V(\\vec{x})}{\\partial x^2}+\\frac{\\partial^2 V(\\vec{x})}{\\partial y^2}+\\frac{\\partial^2 V(\\vec{x})}{\\partial z^2} = 0\\ \\ si\\ \\vec{x}\\in \\Omega $$\n",
                "$$V(\\vec{x}) = V_{i}\\ \\ \\ si\\ \\vec{x}\\in \\Omega_{i} $$\n",
                "$$\\nabla V(\\vec{x}) \\times \\hat{n}_{\\partial \\Omega_{i}}= 0 \\ \\ \\ si\\ \\vec{x}\\in \\partial\\Omega_{i} $$\n",
                "\n",
                "Donde $\\hat{n}_{\\partial \\Omega_{i}}$ es el vector normal a la superficie $\\partial \\Omega_{i}$"
            ]
        },
        {
            "cell_type": "code",
            "execution_count": null,
            "metadata": {
                "collapsed": true,
                "id": "f3282110-3d2a-4ad4-b7bc-f92e6bee8315",
                "focus": false
            },
            "outputs": [],
            "source": []
        }
    ],
    "metadata": {
        "kernelspec": {
            "display_name": "Python 2",
            "language": "python",
            "name": "python2"
        },
        "language_info": {
            "codemirror_mode": {
                "name": "ipython",
                "version": 2
            },
            "file_extension": ".py",
            "mimetype": "text/x-python",
            "name": "python",
            "nbconvert_exporter": "python",
            "pygments_lexer": "ipython2",
            "version": "2.7.10"
        }
    },
    "nbformat": 4,
    "nbformat_minor": 0
}